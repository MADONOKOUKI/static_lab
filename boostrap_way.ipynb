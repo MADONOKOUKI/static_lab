{
 "cells": [
  {
   "cell_type": "code",
   "execution_count": 5,
   "metadata": {},
   "outputs": [],
   "source": [
    "# import librarys\n",
    "import numpy as np\n",
    "import matplotlib.pyplot as plt\n",
    "import seaborn as sns\n",
    "\n",
    "# get data\n",
    "iq = np.array([61, 88, 89, 89, 90, 92, 93, \n",
    "               94, 98, 98, 101, 102, 105, 108,\n",
    "               109, 113, 114, 115, 120, 138])\n",
    "\n",
    "# compute mean, SEM (standard error of the mean) and median\n",
    "mean_iq = np.average(iq)\n",
    "sem_iq = np.std(iq)/np.sqrt(len(iq))\n",
    "median_iq = np.median(iq)\n",
    "\n",
    "# bootstrap to compute sem of the median\n",
    "def bootstrap(x,repeats):\n",
    "    # placeholder (column1: mean, column2: median)\n",
    "    vec = np.zeros((2,repeats))\n",
    "    for i in np.arange(repeats):\n",
    "        # resample data with replacement\n",
    "        re = np.random.choice(len(x),len(x),replace=True)\n",
    "        re_x = x[re]\n",
    "\n",
    "        # compute mean and median of the \"new\" dataset\n",
    "        vec[0,i] = np.mean(re_x)\n",
    "        vec[1,i] = np.median(re_x)\n",
    "\n",
    "    # histogram of median from resampled datasets\n",
    "    sns.distplot(vec[1,:], kde=False)\n",
    "\n",
    "    # compute bootstrapped standard error of the mean,\n",
    "    # and standard error of the median\n",
    "    b_mean_sem = np.std(vec[0,:])\n",
    "    b_median_sem = np.std(vec[1,:])\n",
    "\n",
    "    return b_mean_sem, b_median_sem   \n",
    "\n",
    "# execute bootstrap\n",
    "bootstrapped_sem = bootstrap(iq,1000)    \n"
   ]
  },
  {
   "cell_type": "code",
   "execution_count": 6,
   "metadata": {},
   "outputs": [
    {
     "name": "stdout",
     "output_type": "stream",
     "text": [
      "(3.4664844724158224, 4.2063285356709841)\n"
     ]
    }
   ],
   "source": [
    "print(bootstrapped_sem)"
   ]
  },
  {
   "cell_type": "code",
   "execution_count": null,
   "metadata": {},
   "outputs": [],
   "source": []
  }
 ],
 "metadata": {
  "kernelspec": {
   "display_name": "Python3-TensorFlow",
   "language": "python",
   "name": "py35_tf"
  },
  "language_info": {
   "codemirror_mode": {
    "name": "ipython",
    "version": 3
   },
   "file_extension": ".py",
   "mimetype": "text/x-python",
   "name": "python",
   "nbconvert_exporter": "python",
   "pygments_lexer": "ipython3",
   "version": "3.6.0"
  }
 },
 "nbformat": 4,
 "nbformat_minor": 2
}
